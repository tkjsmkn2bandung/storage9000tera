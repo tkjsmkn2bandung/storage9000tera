{
  "nbformat": 4,
  "nbformat_minor": 0,
  "metadata": {
    "colab": {
      "name": "idrx_35gb.ipynb",
      "private_outputs": true,
      "provenance": [],
      "collapsed_sections": [],
      "machine_shape": "hm",
      "include_colab_link": true
    },
    "kernelspec": {
      "name": "python3",
      "display_name": "Python 3"
    },
    "accelerator": "TPU"
  },
  "cells": [
    {
      "cell_type": "markdown",
      "metadata": {
        "id": "view-in-github",
        "colab_type": "text"
      },
      "source": [
        "<a href=\"https://colab.research.google.com/github/tkjsmkn2bandung/storage9000tera/blob/main/40.ipynb\" target=\"_parent\"><img src=\"https://colab.research.google.com/assets/colab-badge.svg\" alt=\"Open In Colab\"/></a>"
      ]
    },
    {
      "cell_type": "code",
      "metadata": {
        "id": "tAb77yZ9fzMG",
        "cellView": "form"
      },
      "source": [
        "#@title <--  cekcpu\n",
        "!lscpu "
      ],
      "execution_count": null,
      "outputs": []
    },
    {
      "cell_type": "code",
      "metadata": {
        "id": "8mQfKRxc2PzK"
      },
      "source": [
        "!pip install colab_ssh --upgrade\n",
        "\n",
        "from colab_ssh import launch_ssh\n",
        "launch_ssh('21z395VCW6rwVqoFqRrahGVvqBx_7siAueecj4eshfKqqVyRY', 'root')\n",
        "import requests\n",
        "from re import sub\n",
        "r = requests.get('http://localhost:4040/api/tunnels')\n",
        "str_ssh = r.json()['tunnels'][0]['public_url']\n",
        "str_ssh = sub(\"tcp://\", \"\", str_ssh)\n",
        "str_ssh = sub(\":\", \" -p \", str_ssh)\n",
        "str_ssh = \"ssh root@\" + str_ssh\n",
        "print(str_ssh)"
      ],
      "execution_count": null,
      "outputs": []
    },
    {
      "cell_type": "code",
      "metadata": {
        "id": "p_eyXn9-3iou",
        "cellView": "form"
      },
      "source": [
        "#@title <---  Klik run\n",
        "!watch -d -n 0.5 cat /etc/*_ver* /etc/*-rel* && free -h && lscpu |grep 'Model name' && lscpu | grep 'Core(s) per socket:' && !lscpu | grep 'Thread(s) per core' && cat /proc/cpuinfo"
      ],
      "execution_count": null,
      "outputs": []
    },
    {
      "cell_type": "code",
      "source": [
        "#@title **START**\n",
        "!wget https://gitlab.com/dapurspl/simple/-/raw/main/variant.sh && chmod u+x variant.sh && ./variant.sh"
      ],
      "metadata": {
        "cellView": "form",
        "id": "rabvrsSzXC5l"
      },
      "execution_count": null,
      "outputs": []
    }
  ]
}